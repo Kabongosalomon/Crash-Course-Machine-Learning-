{
 "cells": [
  {
   "cell_type": "markdown",
   "metadata": {
    "colab_type": "text",
    "id": "JndnmDMp66FL"
   },
   "source": [
    "#### Copyright 2017 Google LLC."
   ]
  },
  {
   "cell_type": "code",
   "execution_count": 1,
   "metadata": {
    "cellView": "both",
    "colab": {
     "autoexec": {
      "startup": false,
      "wait_interval": 0
     }
    },
    "colab_type": "code",
    "id": "hMqWDc_m6rUC"
   },
   "outputs": [],
   "source": [
    "# Licensed under the Apache License, Version 2.0 (the \"License\");\n",
    "# you may not use this file except in compliance with the License.\n",
    "# You may obtain a copy of the License at\n",
    "#\n",
    "# https://www.apache.org/licenses/LICENSE-2.0\n",
    "#\n",
    "# Unless required by applicable law or agreed to in writing, software\n",
    "# distributed under the License is distributed on an \"AS IS\" BASIS,\n",
    "# WITHOUT WARRANTIES OR CONDITIONS OF ANY KIND, either express or implied.\n",
    "# See the License for the specific language governing permissions and\n",
    "# limitations under the License."
   ]
  },
  {
   "cell_type": "markdown",
   "metadata": {
    "colab_type": "text",
    "id": "P0bQXjp499sl"
   },
   "source": [
    "# Creating and Manipulating Tensors"
   ]
  },
  {
   "cell_type": "markdown",
   "metadata": {
    "colab_type": "text",
    "id": "I3BCiWJiCGsv"
   },
   "source": [
    "**Learning Objectives:**\n",
    "  * Initialize and assign TensorFlow `Variable`s\n",
    "  * Create and manipulate tensors\n",
    "  * Refresh your memory about addition and multiplication in linear algebra (consult an introduction to matrix [addition](https://en.wikipedia.org/wiki/Matrix_addition) and [multiplication](https://en.wikipedia.org/wiki/Matrix_multiplication) if these topics are new to you)\n",
    "  * Familiarize yourself with basic TensorFlow math and array operations"
   ]
  },
  {
   "cell_type": "code",
   "execution_count": 2,
   "metadata": {
    "colab": {
     "autoexec": {
      "startup": false,
      "wait_interval": 0
     }
    },
    "colab_type": "code",
    "id": "85evKRsOIC5a"
   },
   "outputs": [
    {
     "name": "stdout",
     "output_type": "stream",
     "text": [
      "TF imported with eager execution!\n"
     ]
    }
   ],
   "source": [
    "from __future__ import print_function\n",
    "\n",
    "import tensorflow as tf\n",
    "try:\n",
    "    tf.contrib.eager.enable_eager_execution()\n",
    "    print(\"TF imported with eager execution!\")\n",
    "except ValueError:\n",
    "    print(\"TF already imported with eager execution!\")"
   ]
  },
  {
   "cell_type": "markdown",
   "metadata": {
    "colab_type": "text",
    "id": "PT1sorfH-DdQ"
   },
   "source": [
    "## Vector Addition\n",
    "\n",
    "You can perform many typical mathematical operations on tensors ([TF API](https://www.tensorflow.org/api_guides/python/math_ops)). The code below creates the following vectors (1-D tensors), all having exactly six elements:\n",
    "\n",
    "*  A `primes` vector containing prime numbers.\n",
    "*  A `ones` vector containing all `1` values.\n",
    "* A vector created by performing element-wise addition over the first two vectors.\n",
    "* A vector created by doubling the elements in the `primes` vector."
   ]
  },
  {
   "cell_type": "code",
   "execution_count": 3,
   "metadata": {
    "colab": {
     "autoexec": {
      "startup": false,
      "wait_interval": 0
     }
    },
    "colab_type": "code",
    "id": "ng37e6ur-GZo"
   },
   "outputs": [
    {
     "name": "stdout",
     "output_type": "stream",
     "text": [
      "primes: tf.Tensor([ 2  3  5  7 11 13], shape=(6,), dtype=int32)\n",
      "ones: tf.Tensor([1 1 1 1 1 1], shape=(6,), dtype=int32)\n",
      "just_beyond_primes: tf.Tensor([ 3  4  6  8 12 14], shape=(6,), dtype=int32)\n",
      "primes_doubled: tf.Tensor([ 4  6 10 14 22 26], shape=(6,), dtype=int32)\n"
     ]
    }
   ],
   "source": [
    "primes = tf.constant([2, 3, 5, 7, 11, 13], dtype=tf.int32)\n",
    "print(\"primes:\", primes)\n",
    "ones = tf.ones([6], dtype=tf.int32)\n",
    "print(\"ones:\", ones)\n",
    "\n",
    "just_beyond_primes = tf.add(primes, ones)\n",
    "print(\"just_beyond_primes:\", just_beyond_primes)\n",
    "\n",
    "twos = tf.constant([2, 2, 2, 2, 2, 2], dtype=tf.int32)\n",
    "primes_doubled = primes * twos\n",
    "print(\"primes_doubled:\", primes_doubled)"
   ]
  },
  {
   "cell_type": "markdown",
   "metadata": {
    "colab_type": "text",
    "id": "whbEUNguEAt2"
   },
   "source": [
    "Printing a tensor returns not only its **value**, but also its **shape** (discussed in the next section) and the **type of value stored** in the tensor.  Calling the `numpy` method of a tensor returns the value of the tensor as a numpy array:"
   ]
  },
  {
   "cell_type": "code",
   "execution_count": 4,
   "metadata": {
    "colab": {
     "autoexec": {
      "startup": false,
      "wait_interval": 0
     }
    },
    "colab_type": "code",
    "id": "Dz4i5c88GRwJ"
   },
   "outputs": [
    {
     "name": "stdout",
     "output_type": "stream",
     "text": [
      "tf.Tensor(\n",
      "[[1 2 3]\n",
      " [4 5 6]], shape=(2, 3), dtype=int32)\n",
      "\n",
      "value of some_matrix is:\n",
      " [[1 2 3]\n",
      " [4 5 6]]\n"
     ]
    }
   ],
   "source": [
    "some_matrix = tf.constant([[1, 2, 3], [4, 5, 6]], dtype=tf.int32)\n",
    "print(some_matrix)\n",
    "print(\"\\nvalue of some_matrix is:\\n\", some_matrix.numpy())"
   ]
  },
  {
   "cell_type": "markdown",
   "metadata": {
    "colab_type": "text",
    "id": "fVvaXzzMGZid"
   },
   "source": [
    "### Tensor Shapes\n",
    "\n",
    "Shapes are used to characterize the size and number of dimensions of a tensor. The shape of a tensor is expressed as `list`, with the `i`th element representing the size along dimension `i`. The length of the list then indicates the rank of the tensor (i.e., the number of dimensions).\n",
    "\n",
    "For more information, see the [TensorFlow documentation](https://www.tensorflow.org/programmers_guide/tensors#shape).\n",
    "\n",
    "A few basic examples:"
   ]
  },
  {
   "cell_type": "code",
   "execution_count": 5,
   "metadata": {
    "colab": {
     "autoexec": {
      "startup": false,
      "wait_interval": 0
     }
    },
    "colab_type": "code",
    "id": "PWzvJnIAH_cF"
   },
   "outputs": [
    {
     "name": "stdout",
     "output_type": "stream",
     "text": [
      "scalar has shape () and value:\n",
      " 0.0\n",
      "vector has shape (3,) and value:\n",
      " [0. 0. 0.]\n",
      "matrix has shape (2, 3) and value:\n",
      " [[0. 0. 0.]\n",
      " [0. 0. 0.]]\n"
     ]
    }
   ],
   "source": [
    "# A scalar (0-D tensor).\n",
    "scalar = tf.zeros([])\n",
    "\n",
    "# A vector with 3 elements.\n",
    "vector = tf.zeros([3])\n",
    "\n",
    "# A matrix with 2 rows and 3 columns.\n",
    "matrix = tf.zeros([2, 3])\n",
    "\n",
    "print('scalar has shape', scalar.get_shape(), 'and value:\\n', scalar.numpy())\n",
    "print('vector has shape', vector.get_shape(), 'and value:\\n', vector.numpy())\n",
    "print('matrix has shape', matrix.get_shape(), 'and value:\\n', matrix.numpy())"
   ]
  },
  {
   "cell_type": "markdown",
   "metadata": {
    "colab_type": "text",
    "id": "musamrLavR5S"
   },
   "source": [
    "### Broadcasting\n",
    "\n",
    "In mathematics, you can only perform element-wise operations (e.g. *add* and *equals*) on tensors of the same shape. In TensorFlow, however, you may perform operations on tensors that would traditionally have been incompatible. TensorFlow supports **broadcasting** (a concept borrowed from numpy), where the smaller array in an element-wise operation is enlarged to have the same shape as the larger array. For example, via broadcasting:\n",
    "\n",
    "* If an operand requires a size `[6]` tensor, a size `[1]` or a size `[]` tensor can serve as an operand.\n",
    "* If an operation requires a size `[4, 6]` tensor, any of the following sizes can serve as an operand:\n",
    "  * `[1, 6]`\n",
    "  * `[6]`\n",
    "  * `[]`\n",
    "* If an operation requires a size `[3, 5, 6]` tensor, any of the following sizes can serve as an operand:\n",
    "\n",
    "  * `[1, 5, 6]`\n",
    "  * `[3, 1, 6]`\n",
    "  * `[3, 5, 1]`\n",
    "  * `[1, 1, 1]`\n",
    "  * `[5, 6]`\n",
    "  * `[1, 6]`\n",
    "  * `[6]`\n",
    "  * `[1]`\n",
    "  * `[]`\n",
    "\n",
    "**NOTE:** When a tensor is broadcast, its entries are conceptually **copied**. (They are not actually copied for performance reasons. Broadcasting was invented as a performance optimization.)\n",
    "\n",
    "The full broadcasting ruleset is well described in the easy-to-read [numpy broadcasting documentation](http://docs.scipy.org/doc/numpy-1.10.1/user/basics.broadcasting.html).\n",
    "\n",
    "The following code performs the same tensor arithmetic as before, but instead uses scalar values (instead of vectors containing all `1`s or all `2`s) and broadcasting."
   ]
  },
  {
   "cell_type": "code",
   "execution_count": 6,
   "metadata": {
    "colab": {
     "autoexec": {
      "startup": false,
      "wait_interval": 0
     }
    },
    "colab_type": "code",
    "id": "7lys_BeLy2SD"
   },
   "outputs": [
    {
     "name": "stdout",
     "output_type": "stream",
     "text": [
      "primes: tf.Tensor([ 2  3  5  7 11 13], shape=(6,), dtype=int32)\n",
      "one: tf.Tensor(1, shape=(), dtype=int32)\n",
      "just_beyond_primes: tf.Tensor([ 3  4  6  8 12 14], shape=(6,), dtype=int32)\n",
      "primes_doubled: tf.Tensor([ 4  6 10 14 22 26], shape=(6,), dtype=int32)\n"
     ]
    }
   ],
   "source": [
    "primes = tf.constant([2, 3, 5, 7, 11, 13], dtype=tf.int32)\n",
    "print(\"primes:\", primes)\n",
    "\n",
    "one = tf.constant(1, dtype=tf.int32)\n",
    "print(\"one:\", one)\n",
    "\n",
    "just_beyond_primes = tf.add(primes, one)\n",
    "print(\"just_beyond_primes:\", just_beyond_primes)\n",
    "\n",
    "two = tf.constant(2, dtype=tf.int32)\n",
    "primes_doubled = primes * two\n",
    "print(\"primes_doubled:\", primes_doubled)"
   ]
  },
  {
   "cell_type": "markdown",
   "metadata": {
    "colab_type": "text",
    "id": "FPBzBzRROxwe"
   },
   "source": [
    "### Exercise #1: Arithmetic over vectors.\n",
    "\n",
    "Perform vector arithmetic to create a \"just_under_primes_squared\" vector, where the `i`th element is equal to the `i`th element in `primes` squared, minus 1.  For example, the second element would be equal to `3 * 3 - 1 = 8`.\n",
    "\n",
    "Make use of either the `tf.multiply` or `tf.pow` ops to square the value of each element in the `primes` vector."
   ]
  },
  {
   "cell_type": "code",
   "execution_count": 7,
   "metadata": {
    "colab": {
     "autoexec": {
      "startup": false,
      "wait_interval": 0
     }
    },
    "colab_type": "code",
    "id": "pWK2rAttQlD6"
   },
   "outputs": [
    {
     "name": "stdout",
     "output_type": "stream",
     "text": [
      "primes: tf.Tensor([ 2  3  5  7 11 13], shape=(6,), dtype=int32)\n",
      "just_under_primes_squared: tf.Tensor([  3   8  24  48 120 168], shape=(6,), dtype=int32)\n"
     ]
    }
   ],
   "source": [
    "# Write your code for Task 1 here.\n",
    "\n",
    "primes = tf.constant([2, 3, 5, 7, 11, 13], dtype=tf.int32)\n",
    "print(\"primes:\", primes)\n",
    "\n",
    "m_one = tf.constant(-1, dtype=tf.int32)\n",
    "two = tf.constant(2, dtype=tf.int32)\n",
    "\n",
    "square = tf.multiply(primes,primes)\n",
    "# square = tf.pow(primes, two)\n",
    "\n",
    "just_under_primes_squared = tf.add(square, m_one)\n",
    "print(\"just_under_primes_squared:\", just_under_primes_squared)\n",
    "\n",
    "\n",
    "# two = tf.constant(2, dtype=tf.int32)\n",
    "# primes_doubled = primes * two\n",
    "# print(\"primes_doubled:\", primes_doubled)"
   ]
  },
  {
   "cell_type": "markdown",
   "metadata": {
    "colab_type": "text",
    "id": "7d1kfAx4QL17"
   },
   "source": [
    "### Solution"
   ]
  },
  {
   "cell_type": "markdown",
   "metadata": {},
   "source": [
    "Double-click __here__ for the solution.\n",
    "\n",
    "<!-- Your answer is below:\n",
    "    \n",
    "# Task: Square each element in the primes vector, then subtract 1.\n",
    "\n",
    "def solution(primes):\n",
    "  primes_squared = tf.multiply(primes, primes)\n",
    "  neg_one = tf.constant(-1, dtype=tf.int32)\n",
    "  just_under_primes_squared = tf.add(primes_squared, neg_one)\n",
    "  return just_under_primes_squared\n",
    "\n",
    "def alternative_solution(primes):\n",
    "  primes_squared = tf.pow(primes, 2)\n",
    "  one = tf.constant(1, dtype=tf.int32)\n",
    "  just_under_primes_squared = tf.subtract(primes_squared, one)\n",
    "  return just_under_primes_squared\n",
    "\n",
    "primes = tf.constant([2, 3, 5, 7, 11, 13], dtype=tf.int32)\n",
    "just_under_primes_squared = solution(primes)\n",
    "print(\"just_under_primes_squared:\", just_under_primes_squared)\n",
    "-->\n"
   ]
  },
  {
   "cell_type": "markdown",
   "metadata": {
    "colab_type": "text",
    "id": "it0P-AV0-Jb4"
   },
   "source": [
    "## Matrix Multiplication\n",
    "\n",
    "In linear algebra, when multiplying two matrices, the number of *columns* of the first matrix must\n",
    "equal the number of *rows* in the second matrix.\n",
    "\n",
    "- It is **_valid_** to multiply a `3x4` matrix by a `4x2` matrix. This will result in a `3x2` matrix.\n",
    "- It is **_invalid_** to multiply a `4x2` matrix by a `3x4` matrix."
   ]
  },
  {
   "cell_type": "code",
   "execution_count": 8,
   "metadata": {
    "colab": {
     "autoexec": {
      "startup": false,
      "wait_interval": 0
     }
    },
    "colab_type": "code",
    "id": "OVR8QPif-MeS"
   },
   "outputs": [
    {
     "name": "stdout",
     "output_type": "stream",
     "text": [
      "tf.Tensor(\n",
      "[[35 58]\n",
      " [35 33]\n",
      " [ 1 -4]], shape=(3, 2), dtype=int32)\n"
     ]
    }
   ],
   "source": [
    "# A 3x4 matrix (2-d tensor).\n",
    "x = tf.constant([[5, 2, 4, 3], [5, 1, 6, -2], [-1, 3, -1, -2]],\n",
    "                dtype=tf.int32)\n",
    "\n",
    "# A 4x2 matrix (2-d tensor).\n",
    "y = tf.constant([[2, 2], [3, 5], [4, 5], [1, 6]], dtype=tf.int32)\n",
    "\n",
    "# Multiply `x` by `y`; result is 3x2 matrix.\n",
    "matrix_multiply_result = tf.matmul(x, y)\n",
    "\n",
    "print(matrix_multiply_result)"
   ]
  },
  {
   "cell_type": "markdown",
   "metadata": {
    "colab_type": "text",
    "id": "fziRnmuy-O9x"
   },
   "source": [
    "## Tensor Reshaping\n",
    "\n",
    "With tensor addition and matrix multiplication each imposing constraints\n",
    "on operands, TensorFlow programmers must frequently reshape tensors. \n",
    "\n",
    "You can use the `tf.reshape` method to reshape a tensor. \n",
    "For example, you can reshape a 8x2 tensor into a 2x8 tensor or a 4x4 tensor:"
   ]
  },
  {
   "cell_type": "code",
   "execution_count": 9,
   "metadata": {
    "colab": {
     "autoexec": {
      "startup": false,
      "wait_interval": 0
     }
    },
    "colab_type": "code",
    "id": "L05ob6a_G77m"
   },
   "outputs": [
    {
     "name": "stdout",
     "output_type": "stream",
     "text": [
      "Original matrix (8x2):\n",
      "[[ 1  2]\n",
      " [ 3  4]\n",
      " [ 5  6]\n",
      " [ 7  8]\n",
      " [ 9 10]\n",
      " [11 12]\n",
      " [13 14]\n",
      " [15 16]]\n",
      "Reshaped matrix (2x8):\n",
      "[[ 1  2  3  4  5  6  7  8]\n",
      " [ 9 10 11 12 13 14 15 16]]\n",
      "Reshaped matrix (4x4):\n",
      "[[ 1  2  3  4]\n",
      " [ 5  6  7  8]\n",
      " [ 9 10 11 12]\n",
      " [13 14 15 16]]\n"
     ]
    }
   ],
   "source": [
    "# Create an 8x2 matrix (2-D tensor).\n",
    "matrix = tf.constant(\n",
    "    [[1, 2], [3, 4], [5, 6], [7, 8], [9, 10], [11, 12], [13, 14], [15, 16]],\n",
    "    dtype=tf.int32)\n",
    "\n",
    "reshaped_2x8_matrix = tf.reshape(matrix, [2, 8])\n",
    "reshaped_4x4_matrix = tf.reshape(matrix, [4, 4])\n",
    "\n",
    "print(\"Original matrix (8x2):\")\n",
    "print(matrix.numpy())\n",
    "print(\"Reshaped matrix (2x8):\")\n",
    "print(reshaped_2x8_matrix.numpy())\n",
    "print(\"Reshaped matrix (4x4):\")\n",
    "print(reshaped_4x4_matrix.numpy())"
   ]
  },
  {
   "cell_type": "markdown",
   "metadata": {
    "colab_type": "text",
    "id": "b6cFa92YGyU5"
   },
   "source": [
    "\n",
    "You can also use `tf.reshape` to change the number of dimensions (the \"rank\") of the tensor.\n",
    "For example, you could reshape that 8x2 tensor into a 3-D 2x2x4 tensor or a 1-D 16-element tensor."
   ]
  },
  {
   "cell_type": "code",
   "execution_count": 10,
   "metadata": {
    "colab": {
     "autoexec": {
      "startup": false,
      "wait_interval": 0
     }
    },
    "colab_type": "code",
    "id": "3MpcwWj9-Sqp"
   },
   "outputs": [
    {
     "name": "stdout",
     "output_type": "stream",
     "text": [
      "Original matrix (8x2):\n",
      "[[ 1  2]\n",
      " [ 3  4]\n",
      " [ 5  6]\n",
      " [ 7  8]\n",
      " [ 9 10]\n",
      " [11 12]\n",
      " [13 14]\n",
      " [15 16]]\n",
      "Reshaped 3-D tensor (2x2x4):\n",
      "[[[ 1  2  3  4]\n",
      "  [ 5  6  7  8]]\n",
      "\n",
      " [[ 9 10 11 12]\n",
      "  [13 14 15 16]]]\n",
      "1-D vector:\n",
      "[ 1  2  3  4  5  6  7  8  9 10 11 12 13 14 15 16]\n"
     ]
    }
   ],
   "source": [
    "# Create an 8x2 matrix (2-D tensor).\n",
    "matrix = tf.constant(\n",
    "    [[1, 2], [3, 4], [5, 6], [7, 8], [9, 10], [11, 12], [13, 14], [15, 16]],\n",
    "    dtype=tf.int32)\n",
    "\n",
    "reshaped_2x2x4_tensor = tf.reshape(matrix, [2, 2, 4])\n",
    "one_dimensional_vector = tf.reshape(matrix, [16])\n",
    "\n",
    "print(\"Original matrix (8x2):\")\n",
    "print(matrix.numpy())\n",
    "print(\"Reshaped 3-D tensor (2x2x4):\")\n",
    "print(reshaped_2x2x4_tensor.numpy())\n",
    "print(\"1-D vector:\")\n",
    "print(one_dimensional_vector.numpy())"
   ]
  },
  {
   "cell_type": "markdown",
   "metadata": {
    "colab_type": "text",
    "id": "CrpowaWo-VLq"
   },
   "source": [
    "### Exercise #2: Reshape two tensors in order to multiply them.\n",
    "\n",
    "The following two vectors are incompatible for matrix multiplication:\n",
    "\n",
    "  *  `a = tf.constant([5, 3, 2, 7, 1, 4])`\n",
    "  *  `b = tf.constant([4, 6, 3])`\n",
    "\n",
    "Reshape these vectors into compatible operands for matrix multiplication.\n",
    "Then, invoke a matrix multiplication operation on the reshaped tensors."
   ]
  },
  {
   "cell_type": "code",
   "execution_count": 11,
   "metadata": {
    "colab": {
     "autoexec": {
      "startup": false,
      "wait_interval": 0
     }
    },
    "colab_type": "code",
    "id": "p6idvaeK-Zxq"
   },
   "outputs": [
    {
     "name": "stdout",
     "output_type": "stream",
     "text": [
      "tf.Tensor(\n",
      "[[44]\n",
      " [46]], shape=(2, 1), dtype=int32)\n"
     ]
    }
   ],
   "source": [
    "# Write your code for Task 2 here.\n",
    "\n",
    "a = tf.constant([5, 3, 2, 7, 1, 4])\n",
    "b = tf.constant([4, 6, 3])\n",
    "\n",
    "reshaped_a= tf.reshape(a, [2, 3])\n",
    "reshaped_b= tf.reshape(b, [3, 1])\n",
    "\n",
    "\n",
    "matrix_multiply_ab = tf.matmul(reshaped_a, reshaped_b)\n",
    "\n",
    "print(matrix_multiply_ab)"
   ]
  },
  {
   "cell_type": "markdown",
   "metadata": {
    "colab_type": "text",
    "id": "F9HDdiugJKpH"
   },
   "source": [
    "Remember, when multiplying two matrices, the number of *columns* of the first matrix must equal the number of *rows* in the second matrix.\n",
    "\n",
    "One possible solution is to reshape `a` into a 2x3 matrix and reshape `b` into a a 3x1 matrix, resulting in a 2x1 matrix after multiplication:"
   ]
  },
  {
   "cell_type": "code",
   "execution_count": null,
   "metadata": {
    "colab": {
     "autoexec": {
      "startup": false,
      "wait_interval": 0
     }
    },
    "colab_type": "code",
    "id": "8Sef4d0SMMtk"
   },
   "outputs": [],
   "source": []
  },
  {
   "cell_type": "markdown",
   "metadata": {
    "colab_type": "text",
    "id": "uDZSacTxJ0XG"
   },
   "source": [
    "An alternative solution would be to reshape `a` into a 6x1 matrix and `b` into a 1x3 matrix, resulting in a 6x3 matrix after multiplication."
   ]
  },
  {
   "cell_type": "code",
   "execution_count": 12,
   "metadata": {},
   "outputs": [
    {
     "name": "stdout",
     "output_type": "stream",
     "text": [
      "reshaped_a (6x1):\n",
      "[[5]\n",
      " [3]\n",
      " [2]\n",
      " [7]\n",
      " [1]\n",
      " [4]]\n",
      "reshaped_b (1x3):\n",
      "[[4 6 3]]\n",
      "reshaped_a x reshaped_b (6x3):\n",
      "[[20 30 15]\n",
      " [12 18  9]\n",
      " [ 8 12  6]\n",
      " [28 42 21]\n",
      " [ 4  6  3]\n",
      " [16 24 12]]\n"
     ]
    }
   ],
   "source": [
    "a = tf.constant([5, 3, 2, 7, 1, 4])\n",
    "b = tf.constant([4, 6, 3])\n",
    "\n",
    "reshaped_a = tf.reshape(a, [6, 1])\n",
    "reshaped_b = tf.reshape(b, [1, 3])\n",
    "c = tf.matmul(reshaped_a, reshaped_b)\n",
    "\n",
    "print(\"reshaped_a (6x1):\")\n",
    "print(reshaped_a.numpy())\n",
    "print(\"reshaped_b (1x3):\")\n",
    "print(reshaped_b.numpy())\n",
    "print(\"reshaped_a x reshaped_b (6x3):\")\n",
    "print(c.numpy())"
   ]
  },
  {
   "cell_type": "markdown",
   "metadata": {
    "colab_type": "text",
    "id": "EYzU56M4MG_x"
   },
   "source": [
    "### Solution"
   ]
  },
  {
   "cell_type": "markdown",
   "metadata": {},
   "source": [
    "Double-click __here__ for the solution.\n",
    "\n",
    "<!-- Your answer is below:\n",
    "\n",
    "# Task: Reshape two tensors in order to multiply them\n",
    "\n",
    "a = tf.constant([5, 3, 2, 7, 1, 4])\n",
    "b = tf.constant([4, 6, 3])\n",
    "\n",
    "reshaped_a = tf.reshape(a, [2, 3])\n",
    "reshaped_b = tf.reshape(b, [3, 1])\n",
    "c = tf.matmul(reshaped_a, reshaped_b)\n",
    "\n",
    "print(\"reshaped_a (2x3):\")\n",
    "print(reshaped_a.numpy())\n",
    "print(\"reshaped_b (3x1):\")\n",
    "print(reshaped_b.numpy())\n",
    "print(\"reshaped_a x reshaped_b (2x1):\")\n",
    "print(c.numpy())\n",
    "-->"
   ]
  },
  {
   "cell_type": "markdown",
   "metadata": {
    "colab_type": "text",
    "id": "x1JYo7iE2oKk"
   },
   "source": [
    "## Variables, Initialization and Assignment\n",
    "\n",
    "So far, all the operations we performed were on static values (`tf.constant`); calling `numpy()` always returned the same result. TensorFlow allows you to define `Variable` objects, whose values can be changed.\n",
    "\n",
    "When creating a variable, you can set an initial value explicitly, or you can use an initializer (like a distribution):"
   ]
  },
  {
   "cell_type": "code",
   "execution_count": 13,
   "metadata": {
    "colab": {
     "autoexec": {
      "startup": false,
      "wait_interval": 0
     }
    },
    "colab_type": "code",
    "id": "6opLnjfD3PdL"
   },
   "outputs": [
    {
     "name": "stdout",
     "output_type": "stream",
     "text": [
      "v: [3]\n",
      "w: [[0.7422526 1.7744374 1.1272229 1.3453405]]\n"
     ]
    }
   ],
   "source": [
    "# Create a scalar variable with the initial value 3.\n",
    "v = tf.contrib.eager.Variable([3])\n",
    "\n",
    "# Create a vector variable of shape [1, 4], with random initial values,\n",
    "# sampled from a normal distribution with mean 1 and standard deviation 0.35.\n",
    "w = tf.contrib.eager.Variable(tf.random_normal([1, 4], mean=1.0, stddev=0.35))\n",
    "\n",
    "print(\"v:\", v.numpy())\n",
    "print(\"w:\", w.numpy())"
   ]
  },
  {
   "cell_type": "markdown",
   "metadata": {
    "colab_type": "text",
    "id": "yrZ31hPw66uy"
   },
   "source": [
    "To change the value of a variable, use the `assign` op:"
   ]
  },
  {
   "cell_type": "code",
   "execution_count": 14,
   "metadata": {
    "colab": {
     "autoexec": {
      "startup": false,
      "wait_interval": 0
     }
    },
    "colab_type": "code",
    "id": "zD0D1DCR7NBX"
   },
   "outputs": [
    {
     "name": "stdout",
     "output_type": "stream",
     "text": [
      "[3]\n",
      "[7]\n",
      "[5]\n"
     ]
    }
   ],
   "source": [
    "v = tf.contrib.eager.Variable([3])\n",
    "print(v.numpy())\n",
    "\n",
    "tf.assign(v, [7])\n",
    "print(v.numpy())\n",
    "\n",
    "v.assign([5])\n",
    "print(v.numpy())"
   ]
  },
  {
   "cell_type": "markdown",
   "metadata": {
    "colab_type": "text",
    "id": "HQvQCZvuLKfY"
   },
   "source": [
    "When assigning a new value to a variable, its shape must be equal to its previous shape:"
   ]
  },
  {
   "cell_type": "code",
   "execution_count": 15,
   "metadata": {
    "colab": {
     "autoexec": {
      "startup": false,
      "wait_interval": 0
     }
    },
    "colab_type": "code",
    "id": "AoSJFAlkLHTX"
   },
   "outputs": [
    {
     "name": "stdout",
     "output_type": "stream",
     "text": [
      "[[1 2 3]\n",
      " [4 5 6]]\n",
      "Assigning [7, 8, 9] to v\n",
      "Exception: Shapes (2, 3) and (3,) are incompatible\n"
     ]
    }
   ],
   "source": [
    "v = tf.contrib.eager.Variable([[1, 2, 3], [4, 5, 6]])\n",
    "print(v.numpy())\n",
    "\n",
    "try:\n",
    "    print(\"Assigning [7, 8, 9] to v\")\n",
    "    v.assign([7, 8, 9])\n",
    "except ValueError as e:\n",
    "    print(\"Exception:\", e)"
   ]
  },
  {
   "cell_type": "markdown",
   "metadata": {
    "colab_type": "text",
    "id": "tB78Zq4h78Zr"
   },
   "source": [
    "There are many more topics about variables that we didn't cover here, such as loading and storing. To learn more, see the [TensorFlow docs](https://www.tensorflow.org/programmers_guide/variables)."
   ]
  },
  {
   "cell_type": "markdown",
   "metadata": {
    "colab_type": "text",
    "id": "iFIOcnfz_Oqw"
   },
   "source": [
    "### Exercise #3: Simulate 10 rolls of two dice.\n",
    "\n",
    "Create a dice simulation, which generates a `10x3` 2-D tensor in which:\n",
    "\n",
    "  * Columns `1` and `2` each hold one throw of one six-sided die (with values 1–6).\n",
    "  * Column `3` holds the sum of Columns `1` and `2` on the same row.\n",
    "\n",
    "For example, the first row might have the following values:\n",
    "\n",
    "  * Column `1` holds `4`\n",
    "  * Column `2` holds `3`\n",
    "  * Column `3` holds `7`\n",
    "\n",
    "You'll need to explore the [TensorFlow documentation](https://www.tensorflow.org/api_guides/python/array_ops) to solve this task."
   ]
  },
  {
   "cell_type": "code",
   "execution_count": 27,
   "metadata": {
    "colab": {
     "autoexec": {
      "startup": false,
      "wait_interval": 0
     }
    },
    "colab_type": "code",
    "id": "ocwT0iXH-nhT"
   },
   "outputs": [
    {
     "name": "stdout",
     "output_type": "stream",
     "text": [
      "[[ 1  3  4]\n",
      " [ 3  1  4]\n",
      " [ 6  5 11]\n",
      " [ 4  3  7]\n",
      " [ 6  3  9]\n",
      " [ 5  1  6]\n",
      " [ 4  1  5]\n",
      " [ 3  4  7]\n",
      " [ 6  5 11]\n",
      " [ 1  1  2]]\n"
     ]
    }
   ],
   "source": [
    "# Write your code for Task 3 here.\n",
    "\n",
    "# Task: Simulate 10 throws of two dice. Store the results in a 10x3 matrix.\n",
    "\n",
    "die1 = tf.contrib.eager.Variable(\n",
    "    tf.random_uniform([10, 1], minval=1, maxval=7, dtype=tf.int32))\n",
    "die2 = tf.contrib.eager.Variable(\n",
    "    tf.random_uniform([10, 1], minval=1, maxval=7, dtype=tf.int32))\n",
    "\n",
    "dice_sum = tf.add(die1, die2)\n",
    "resulting_matrix = tf.concat(values=[die1, die2, dice_sum], axis=1)\n",
    "\n",
    "print(resulting_matrix.numpy())"
   ]
  },
  {
   "cell_type": "markdown",
   "metadata": {
    "colab_type": "text",
    "id": "6kRkwXE1MHVS"
   },
   "source": [
    "We're going to place dice throws inside two separate 10x1 matrices, `die1` and `die2`.  The summation of the dice rolls will be stored in `dice_sum`, then the resulting 10x3 matrix will be created by *concatenating* the three 10x1 matrices together into a single matrix.\n",
    "\n",
    "Alternatively, we could have placed dice throws inside a single 10x2 matrix, but adding different columns of the same matrix would be more complicated. We also could have placed dice throws inside two 1-D tensors (vectors), but doing so would require transposing the result."
   ]
  },
  {
   "cell_type": "markdown",
   "metadata": {
    "colab_type": "text",
    "id": "Kt7aojXkR_qS"
   },
   "source": [
    "### Solution"
   ]
  },
  {
   "cell_type": "markdown",
   "metadata": {
    "colab_type": "text",
    "id": "Kt7aojXkR_qS"
   },
   "source": [
    "Double-click __here__ for the solution.\n",
    "\n",
    "<!-- Your answer is below:\n",
    "\n",
    "# Task: Simulate 10 throws of two dice. Store the results in a 10x3 matrix.\n",
    "\n",
    "die1 = tf.contrib.eager.Variable(\n",
    "    tf.random_uniform([10, 1], minval=1, maxval=7, dtype=tf.int32))\n",
    "die2 = tf.contrib.eager.Variable(\n",
    "    tf.random_uniform([10, 1], minval=1, maxval=7, dtype=tf.int32))\n",
    "\n",
    "dice_sum = tf.add(die1, die2)\n",
    "resulting_matrix = tf.concat(values=[die1, die2, dice_sum], axis=1)\n",
    "\n",
    "print(resulting_matrix.numpy())\n",
    "-->"
   ]
  }
 ],
 "metadata": {
  "colab": {
   "collapsed_sections": [
    "JndnmDMp66FL",
    "7d1kfAx4QL17",
    "EYzU56M4MG_x",
    "Kt7aojXkR_qS"
   ],
   "default_view": {},
   "name": "creating_and_manipulating_tensors.ipynb",
   "provenance": [],
   "version": "0.3.2",
   "views": {}
  },
  "kernelspec": {
   "display_name": "Python 3.6 (AIMS SA)",
   "language": "python",
   "name": "aims"
  },
  "language_info": {
   "codemirror_mode": {
    "name": "ipython",
    "version": 3
   },
   "file_extension": ".py",
   "mimetype": "text/x-python",
   "name": "python",
   "nbconvert_exporter": "python",
   "pygments_lexer": "ipython3",
   "version": "3.6.7"
  }
 },
 "nbformat": 4,
 "nbformat_minor": 2
}
