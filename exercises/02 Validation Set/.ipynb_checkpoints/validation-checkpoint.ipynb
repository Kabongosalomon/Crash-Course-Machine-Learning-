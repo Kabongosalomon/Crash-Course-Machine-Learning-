{
 "cells": [
  {
   "cell_type": "markdown",
   "metadata": {
    "colab_type": "text",
    "id": "JndnmDMp66FL"
   },
   "source": [
    "#### Copyright 2017 Google LLC."
   ]
  },
  {
   "cell_type": "code",
   "execution_count": null,
   "metadata": {
    "cellView": "both",
    "colab": {
     "autoexec": {
      "startup": false,
      "wait_interval": 0
     }
    },
    "colab_type": "code",
    "id": "hMqWDc_m6rUC"
   },
   "outputs": [],
   "source": [
    "# Licensed under the Apache License, Version 2.0 (the \"License\");\n",
    "# you may not use this file except in compliance with the License.\n",
    "# You may obtain a copy of the License at\n",
    "#\n",
    "# https://www.apache.org/licenses/LICENSE-2.0\n",
    "#\n",
    "# Unless required by applicable law or agreed to in writing, software\n",
    "# distributed under the License is distributed on an \"AS IS\" BASIS,\n",
    "# WITHOUT WARRANTIES OR CONDITIONS OF ANY KIND, either express or implied.\n",
    "# See the License for the specific language governing permissions and\n",
    "# limitations under the License."
   ]
  },
  {
   "cell_type": "markdown",
   "metadata": {
    "colab_type": "text",
    "id": "zbIgBK-oXHO7"
   },
   "source": [
    "# Validation"
   ]
  },
  {
   "cell_type": "markdown",
   "metadata": {
    "colab_type": "text",
    "id": "WNX0VyBpHpCX"
   },
   "source": [
    "**Learning Objectives:**\n",
    "  * Use multiple features, instead of a single feature, to further improve the effectiveness of a model\n",
    "  * Debug issues in model input data\n",
    "  * Use a test data set to check if a model is overfitting the validation data"
   ]
  },
  {
   "cell_type": "markdown",
   "metadata": {
    "colab_type": "text",
    "id": "za0m1T8CHpCY"
   },
   "source": [
    "As in the prior exercises, we're working with the [California housing data set](https://developers.google.com/machine-learning/crash-course/california-housing-data-description), to try and predict `median_house_value` at the city block level from 1990 census data."
   ]
  },
  {
   "cell_type": "markdown",
   "metadata": {
    "colab_type": "text",
    "id": "r2zgMfWDWF12"
   },
   "source": [
    "## Setup"
   ]
  },
  {
   "cell_type": "markdown",
   "metadata": {
    "colab_type": "text",
    "id": "8jErhkLzWI1B"
   },
   "source": [
    "First off, let's load up and prepare our data. This time, we're going to work with multiple features, so we'll modularize the logic for preprocessing the features a bit:"
   ]
  },
  {
   "cell_type": "code",
   "execution_count": 35,
   "metadata": {
    "colab": {
     "autoexec": {
      "startup": false,
      "wait_interval": 0
     }
    },
    "colab_type": "code",
    "id": "PwS5Bhm6HpCZ"
   },
   "outputs": [
    {
     "data": {
      "text/html": [
       "<div>\n",
       "<style scoped>\n",
       "    .dataframe tbody tr th:only-of-type {\n",
       "        vertical-align: middle;\n",
       "    }\n",
       "\n",
       "    .dataframe tbody tr th {\n",
       "        vertical-align: top;\n",
       "    }\n",
       "\n",
       "    .dataframe thead th {\n",
       "        text-align: right;\n",
       "    }\n",
       "</style>\n",
       "<table border=\"1\" class=\"dataframe\">\n",
       "  <thead>\n",
       "    <tr style=\"text-align: right;\">\n",
       "      <th></th>\n",
       "      <th>longitude</th>\n",
       "      <th>latitude</th>\n",
       "      <th>housing_median_age</th>\n",
       "      <th>total_rooms</th>\n",
       "      <th>total_bedrooms</th>\n",
       "      <th>population</th>\n",
       "      <th>households</th>\n",
       "      <th>median_income</th>\n",
       "      <th>median_house_value</th>\n",
       "    </tr>\n",
       "  </thead>\n",
       "  <tbody>\n",
       "    <tr>\n",
       "      <th>0</th>\n",
       "      <td>-114.3</td>\n",
       "      <td>34.2</td>\n",
       "      <td>15.0</td>\n",
       "      <td>5612.0</td>\n",
       "      <td>1283.0</td>\n",
       "      <td>1015.0</td>\n",
       "      <td>472.0</td>\n",
       "      <td>1.5</td>\n",
       "      <td>66900.0</td>\n",
       "    </tr>\n",
       "    <tr>\n",
       "      <th>1</th>\n",
       "      <td>-114.5</td>\n",
       "      <td>34.4</td>\n",
       "      <td>19.0</td>\n",
       "      <td>7650.0</td>\n",
       "      <td>1901.0</td>\n",
       "      <td>1129.0</td>\n",
       "      <td>463.0</td>\n",
       "      <td>1.8</td>\n",
       "      <td>80100.0</td>\n",
       "    </tr>\n",
       "    <tr>\n",
       "      <th>2</th>\n",
       "      <td>-114.6</td>\n",
       "      <td>33.7</td>\n",
       "      <td>17.0</td>\n",
       "      <td>720.0</td>\n",
       "      <td>174.0</td>\n",
       "      <td>333.0</td>\n",
       "      <td>117.0</td>\n",
       "      <td>1.7</td>\n",
       "      <td>85700.0</td>\n",
       "    </tr>\n",
       "    <tr>\n",
       "      <th>3</th>\n",
       "      <td>-114.6</td>\n",
       "      <td>33.6</td>\n",
       "      <td>14.0</td>\n",
       "      <td>1501.0</td>\n",
       "      <td>337.0</td>\n",
       "      <td>515.0</td>\n",
       "      <td>226.0</td>\n",
       "      <td>3.2</td>\n",
       "      <td>73400.0</td>\n",
       "    </tr>\n",
       "    <tr>\n",
       "      <th>4</th>\n",
       "      <td>-114.6</td>\n",
       "      <td>33.6</td>\n",
       "      <td>20.0</td>\n",
       "      <td>1454.0</td>\n",
       "      <td>326.0</td>\n",
       "      <td>624.0</td>\n",
       "      <td>262.0</td>\n",
       "      <td>1.9</td>\n",
       "      <td>65500.0</td>\n",
       "    </tr>\n",
       "  </tbody>\n",
       "</table>\n",
       "</div>"
      ],
      "text/plain": [
       "   longitude  latitude  housing_median_age  total_rooms  total_bedrooms  \\\n",
       "0     -114.3      34.2                15.0       5612.0          1283.0   \n",
       "1     -114.5      34.4                19.0       7650.0          1901.0   \n",
       "2     -114.6      33.7                17.0        720.0           174.0   \n",
       "3     -114.6      33.6                14.0       1501.0           337.0   \n",
       "4     -114.6      33.6                20.0       1454.0           326.0   \n",
       "\n",
       "   population  households  median_income  median_house_value  \n",
       "0      1015.0       472.0            1.5             66900.0  \n",
       "1      1129.0       463.0            1.8             80100.0  \n",
       "2       333.0       117.0            1.7             85700.0  \n",
       "3       515.0       226.0            3.2             73400.0  \n",
       "4       624.0       262.0            1.9             65500.0  "
      ]
     },
     "execution_count": 35,
     "metadata": {},
     "output_type": "execute_result"
    }
   ],
   "source": [
    "from __future__ import print_function\n",
    "\n",
    "import math\n",
    "\n",
    "import ipdb # Debug\n",
    "\n",
    "from IPython import display\n",
    "from matplotlib import cm\n",
    "from matplotlib import gridspec\n",
    "from matplotlib import pyplot as plt\n",
    "import numpy as np\n",
    "import pandas as pd\n",
    "from sklearn import metrics\n",
    "import tensorflow as tf\n",
    "from tensorflow.python.data import Dataset\n",
    "\n",
    "tf.logging.set_verbosity(tf.logging.ERROR)\n",
    "pd.options.display.max_rows = 10\n",
    "pd.options.display.float_format = '{:.1f}'.format\n",
    "\n",
    "# Downloading data directly from the source\n",
    "# california_housing_dataframe = pd.read_csv(\"https://download.mlcc.google.com/mledu-datasets/california_housing_train.csv\", sep=\",\")\n",
    "\n",
    "# Option for offline mode\n",
    "california_housing_dataframe = pd.read_csv(\"..\\..\\data\\california_housing_train.csv\", sep=\",\")\n",
    "\n",
    "# california_housing_dataframe = california_housing_dataframe.reindex(\n",
    "#     np.random.permutation(california_housing_dataframe.index))\n",
    "\n",
    "california_housing_dataframe.head()"
   ]
  },
  {
   "cell_type": "code",
   "execution_count": 36,
   "metadata": {},
   "outputs": [],
   "source": [
    "# Keep local copy of the data\n",
    "# california_housing_dataframe.to_csv(\"..\\..\\data\\california_housing_train.csv\", index=False)"
   ]
  },
  {
   "cell_type": "code",
   "execution_count": 37,
   "metadata": {
    "colab": {
     "autoexec": {
      "startup": false,
      "wait_interval": 0
     }
    },
    "colab_type": "code",
    "id": "J2ZyTzX0HpCc"
   },
   "outputs": [],
   "source": [
    "def preprocess_features(california_housing_dataframe):\n",
    "    \"\"\"Prepares input features from California housing data set.\n",
    "    \n",
    "    Args:\n",
    "        california_housing_dataframe: A Pandas DataFrame expected to contain data\n",
    "                                      from the California housing data set.\n",
    "    Returns:\n",
    "        A DataFrame that contains the features to be used for the model, including\n",
    "        synthetic features.\n",
    "    \"\"\"\n",
    "    \n",
    "    selected_features = california_housing_dataframe[\n",
    "        [\"latitude\",\n",
    "         \"longitude\",\n",
    "         \"housing_median_age\",\n",
    "         \"total_rooms\",\n",
    "         \"total_bedrooms\",\n",
    "         \"population\",\n",
    "         \"households\",\n",
    "         \"median_income\"]]\n",
    "    \n",
    "    processed_features = selected_features.copy() # ; ipdb.set_trace()\n",
    "    \n",
    "    # Create a synthetic feature.\n",
    "    processed_features[\"rooms_per_person\"] = (california_housing_dataframe[\"total_rooms\"] /\n",
    "        california_housing_dataframe[\"population\"]) # ; ipdb.set_trace()\n",
    "    \n",
    "    return processed_features\n",
    "\n",
    "def preprocess_targets(california_housing_dataframe):\n",
    "    \"\"\"Prepares target features (i.e., labels) from California housing data set.\n",
    "    Args:\n",
    "        california_housing_dataframe: A Pandas DataFrame expected to contain data\n",
    "          from the California housing data set.\n",
    "    Returns:\n",
    "        A DataFrame that contains the target feature.\n",
    "    \"\"\"\n",
    "    \n",
    "    output_targets = pd.DataFrame()\n",
    "    # Scale the target to be in units of thousands of dollars.\n",
    "    output_targets[\"median_house_value\"] = (california_housing_dataframe[\"median_house_value\"] / 1000.0)\n",
    "    \n",
    "    return output_targets"
   ]
  },
  {
   "cell_type": "code",
   "execution_count": 38,
   "metadata": {},
   "outputs": [
    {
     "data": {
      "text/plain": [
       "(17000, 9)"
      ]
     },
     "execution_count": 38,
     "metadata": {},
     "output_type": "execute_result"
    }
   ],
   "source": [
    "california_housing_dataframe.shape"
   ]
  },
  {
   "cell_type": "markdown",
   "metadata": {
    "colab_type": "text",
    "id": "sZSIaDiaHpCf"
   },
   "source": [
    "For the **training set**, we'll choose the first 12000 examples, out of the total of 17000."
   ]
  },
  {
   "cell_type": "code",
   "execution_count": 39,
   "metadata": {
    "colab": {
     "autoexec": {
      "startup": false,
      "wait_interval": 0
     }
    },
    "colab_type": "code",
    "id": "P9wejvw7HpCf"
   },
   "outputs": [
    {
     "data": {
      "text/html": [
       "<div>\n",
       "<style scoped>\n",
       "    .dataframe tbody tr th:only-of-type {\n",
       "        vertical-align: middle;\n",
       "    }\n",
       "\n",
       "    .dataframe tbody tr th {\n",
       "        vertical-align: top;\n",
       "    }\n",
       "\n",
       "    .dataframe thead th {\n",
       "        text-align: right;\n",
       "    }\n",
       "</style>\n",
       "<table border=\"1\" class=\"dataframe\">\n",
       "  <thead>\n",
       "    <tr style=\"text-align: right;\">\n",
       "      <th></th>\n",
       "      <th>latitude</th>\n",
       "      <th>longitude</th>\n",
       "      <th>housing_median_age</th>\n",
       "      <th>total_rooms</th>\n",
       "      <th>total_bedrooms</th>\n",
       "      <th>population</th>\n",
       "      <th>households</th>\n",
       "      <th>median_income</th>\n",
       "      <th>rooms_per_person</th>\n",
       "    </tr>\n",
       "  </thead>\n",
       "  <tbody>\n",
       "    <tr>\n",
       "      <th>count</th>\n",
       "      <td>12000.0</td>\n",
       "      <td>12000.0</td>\n",
       "      <td>12000.0</td>\n",
       "      <td>12000.0</td>\n",
       "      <td>12000.0</td>\n",
       "      <td>12000.0</td>\n",
       "      <td>12000.0</td>\n",
       "      <td>12000.0</td>\n",
       "      <td>12000.0</td>\n",
       "    </tr>\n",
       "    <tr>\n",
       "      <th>mean</th>\n",
       "      <td>34.6</td>\n",
       "      <td>-118.5</td>\n",
       "      <td>27.5</td>\n",
       "      <td>2655.7</td>\n",
       "      <td>547.1</td>\n",
       "      <td>1476.0</td>\n",
       "      <td>505.4</td>\n",
       "      <td>3.8</td>\n",
       "      <td>1.9</td>\n",
       "    </tr>\n",
       "    <tr>\n",
       "      <th>std</th>\n",
       "      <td>1.6</td>\n",
       "      <td>1.2</td>\n",
       "      <td>12.1</td>\n",
       "      <td>2258.1</td>\n",
       "      <td>434.3</td>\n",
       "      <td>1174.3</td>\n",
       "      <td>391.7</td>\n",
       "      <td>1.9</td>\n",
       "      <td>1.3</td>\n",
       "    </tr>\n",
       "    <tr>\n",
       "      <th>min</th>\n",
       "      <td>32.5</td>\n",
       "      <td>-121.4</td>\n",
       "      <td>1.0</td>\n",
       "      <td>2.0</td>\n",
       "      <td>2.0</td>\n",
       "      <td>3.0</td>\n",
       "      <td>2.0</td>\n",
       "      <td>0.5</td>\n",
       "      <td>0.0</td>\n",
       "    </tr>\n",
       "    <tr>\n",
       "      <th>25%</th>\n",
       "      <td>33.8</td>\n",
       "      <td>-118.9</td>\n",
       "      <td>17.0</td>\n",
       "      <td>1451.8</td>\n",
       "      <td>299.0</td>\n",
       "      <td>815.0</td>\n",
       "      <td>283.0</td>\n",
       "      <td>2.5</td>\n",
       "      <td>1.4</td>\n",
       "    </tr>\n",
       "    <tr>\n",
       "      <th>50%</th>\n",
       "      <td>34.0</td>\n",
       "      <td>-118.2</td>\n",
       "      <td>28.0</td>\n",
       "      <td>2113.5</td>\n",
       "      <td>438.0</td>\n",
       "      <td>1207.0</td>\n",
       "      <td>411.0</td>\n",
       "      <td>3.5</td>\n",
       "      <td>1.9</td>\n",
       "    </tr>\n",
       "    <tr>\n",
       "      <th>75%</th>\n",
       "      <td>34.4</td>\n",
       "      <td>-117.8</td>\n",
       "      <td>36.0</td>\n",
       "      <td>3146.0</td>\n",
       "      <td>653.0</td>\n",
       "      <td>1777.0</td>\n",
       "      <td>606.0</td>\n",
       "      <td>4.6</td>\n",
       "      <td>2.3</td>\n",
       "    </tr>\n",
       "    <tr>\n",
       "      <th>max</th>\n",
       "      <td>41.8</td>\n",
       "      <td>-114.3</td>\n",
       "      <td>52.0</td>\n",
       "      <td>37937.0</td>\n",
       "      <td>5471.0</td>\n",
       "      <td>35682.0</td>\n",
       "      <td>5189.0</td>\n",
       "      <td>15.0</td>\n",
       "      <td>55.2</td>\n",
       "    </tr>\n",
       "  </tbody>\n",
       "</table>\n",
       "</div>"
      ],
      "text/plain": [
       "       latitude  longitude  housing_median_age  total_rooms  total_bedrooms  \\\n",
       "count   12000.0    12000.0             12000.0      12000.0         12000.0   \n",
       "mean       34.6     -118.5                27.5       2655.7           547.1   \n",
       "std         1.6        1.2                12.1       2258.1           434.3   \n",
       "min        32.5     -121.4                 1.0          2.0             2.0   \n",
       "25%        33.8     -118.9                17.0       1451.8           299.0   \n",
       "50%        34.0     -118.2                28.0       2113.5           438.0   \n",
       "75%        34.4     -117.8                36.0       3146.0           653.0   \n",
       "max        41.8     -114.3                52.0      37937.0          5471.0   \n",
       "\n",
       "       population  households  median_income  rooms_per_person  \n",
       "count     12000.0     12000.0        12000.0           12000.0  \n",
       "mean       1476.0       505.4            3.8               1.9  \n",
       "std        1174.3       391.7            1.9               1.3  \n",
       "min           3.0         2.0            0.5               0.0  \n",
       "25%         815.0       283.0            2.5               1.4  \n",
       "50%        1207.0       411.0            3.5               1.9  \n",
       "75%        1777.0       606.0            4.6               2.3  \n",
       "max       35682.0      5189.0           15.0              55.2  "
      ]
     },
     "execution_count": 39,
     "metadata": {},
     "output_type": "execute_result"
    }
   ],
   "source": [
    "training_examples = preprocess_features(california_housing_dataframe.head(12000))\n",
    "training_examples.describe()"
   ]
  },
  {
   "cell_type": "code",
   "execution_count": 40,
   "metadata": {
    "colab": {
     "autoexec": {
      "startup": false,
      "wait_interval": 0
     }
    },
    "colab_type": "code",
    "id": "JlkgPR-SHpCh"
   },
   "outputs": [
    {
     "data": {
      "text/html": [
       "<div>\n",
       "<style scoped>\n",
       "    .dataframe tbody tr th:only-of-type {\n",
       "        vertical-align: middle;\n",
       "    }\n",
       "\n",
       "    .dataframe tbody tr th {\n",
       "        vertical-align: top;\n",
       "    }\n",
       "\n",
       "    .dataframe thead th {\n",
       "        text-align: right;\n",
       "    }\n",
       "</style>\n",
       "<table border=\"1\" class=\"dataframe\">\n",
       "  <thead>\n",
       "    <tr style=\"text-align: right;\">\n",
       "      <th></th>\n",
       "      <th>median_house_value</th>\n",
       "    </tr>\n",
       "  </thead>\n",
       "  <tbody>\n",
       "    <tr>\n",
       "      <th>count</th>\n",
       "      <td>12000.0</td>\n",
       "    </tr>\n",
       "    <tr>\n",
       "      <th>mean</th>\n",
       "      <td>198.0</td>\n",
       "    </tr>\n",
       "    <tr>\n",
       "      <th>std</th>\n",
       "      <td>111.9</td>\n",
       "    </tr>\n",
       "    <tr>\n",
       "      <th>min</th>\n",
       "      <td>15.0</td>\n",
       "    </tr>\n",
       "    <tr>\n",
       "      <th>25%</th>\n",
       "      <td>117.1</td>\n",
       "    </tr>\n",
       "    <tr>\n",
       "      <th>50%</th>\n",
       "      <td>170.5</td>\n",
       "    </tr>\n",
       "    <tr>\n",
       "      <th>75%</th>\n",
       "      <td>244.4</td>\n",
       "    </tr>\n",
       "    <tr>\n",
       "      <th>max</th>\n",
       "      <td>500.0</td>\n",
       "    </tr>\n",
       "  </tbody>\n",
       "</table>\n",
       "</div>"
      ],
      "text/plain": [
       "       median_house_value\n",
       "count             12000.0\n",
       "mean                198.0\n",
       "std                 111.9\n",
       "min                  15.0\n",
       "25%                 117.1\n",
       "50%                 170.5\n",
       "75%                 244.4\n",
       "max                 500.0"
      ]
     },
     "execution_count": 40,
     "metadata": {},
     "output_type": "execute_result"
    }
   ],
   "source": [
    "training_targets = preprocess_targets(california_housing_dataframe.head(12000))\n",
    "training_targets.describe()"
   ]
  },
  {
   "cell_type": "markdown",
   "metadata": {
    "colab_type": "text",
    "id": "5l1aA2xOHpCj"
   },
   "source": [
    "For the **validation set**, we'll choose the last 5000 examples, out of the total of 17000."
   ]
  },
  {
   "cell_type": "code",
   "execution_count": 41,
   "metadata": {
    "colab": {
     "autoexec": {
      "startup": false,
      "wait_interval": 0
     }
    },
    "colab_type": "code",
    "id": "fLYXLWAiHpCk"
   },
   "outputs": [
    {
     "data": {
      "text/html": [
       "<div>\n",
       "<style scoped>\n",
       "    .dataframe tbody tr th:only-of-type {\n",
       "        vertical-align: middle;\n",
       "    }\n",
       "\n",
       "    .dataframe tbody tr th {\n",
       "        vertical-align: top;\n",
       "    }\n",
       "\n",
       "    .dataframe thead th {\n",
       "        text-align: right;\n",
       "    }\n",
       "</style>\n",
       "<table border=\"1\" class=\"dataframe\">\n",
       "  <thead>\n",
       "    <tr style=\"text-align: right;\">\n",
       "      <th></th>\n",
       "      <th>latitude</th>\n",
       "      <th>longitude</th>\n",
       "      <th>housing_median_age</th>\n",
       "      <th>total_rooms</th>\n",
       "      <th>total_bedrooms</th>\n",
       "      <th>population</th>\n",
       "      <th>households</th>\n",
       "      <th>median_income</th>\n",
       "      <th>rooms_per_person</th>\n",
       "    </tr>\n",
       "  </thead>\n",
       "  <tbody>\n",
       "    <tr>\n",
       "      <th>count</th>\n",
       "      <td>5000.0</td>\n",
       "      <td>5000.0</td>\n",
       "      <td>5000.0</td>\n",
       "      <td>5000.0</td>\n",
       "      <td>5000.0</td>\n",
       "      <td>5000.0</td>\n",
       "      <td>5000.0</td>\n",
       "      <td>5000.0</td>\n",
       "      <td>5000.0</td>\n",
       "    </tr>\n",
       "    <tr>\n",
       "      <th>mean</th>\n",
       "      <td>38.1</td>\n",
       "      <td>-122.2</td>\n",
       "      <td>31.3</td>\n",
       "      <td>2614.8</td>\n",
       "      <td>521.1</td>\n",
       "      <td>1318.1</td>\n",
       "      <td>491.2</td>\n",
       "      <td>4.1</td>\n",
       "      <td>2.1</td>\n",
       "    </tr>\n",
       "    <tr>\n",
       "      <th>std</th>\n",
       "      <td>0.9</td>\n",
       "      <td>0.5</td>\n",
       "      <td>13.4</td>\n",
       "      <td>1979.6</td>\n",
       "      <td>388.5</td>\n",
       "      <td>1073.7</td>\n",
       "      <td>366.5</td>\n",
       "      <td>2.0</td>\n",
       "      <td>0.6</td>\n",
       "    </tr>\n",
       "    <tr>\n",
       "      <th>min</th>\n",
       "      <td>36.1</td>\n",
       "      <td>-124.3</td>\n",
       "      <td>1.0</td>\n",
       "      <td>8.0</td>\n",
       "      <td>1.0</td>\n",
       "      <td>8.0</td>\n",
       "      <td>1.0</td>\n",
       "      <td>0.5</td>\n",
       "      <td>0.1</td>\n",
       "    </tr>\n",
       "    <tr>\n",
       "      <th>25%</th>\n",
       "      <td>37.5</td>\n",
       "      <td>-122.4</td>\n",
       "      <td>20.0</td>\n",
       "      <td>1481.0</td>\n",
       "      <td>292.0</td>\n",
       "      <td>731.0</td>\n",
       "      <td>278.0</td>\n",
       "      <td>2.7</td>\n",
       "      <td>1.7</td>\n",
       "    </tr>\n",
       "    <tr>\n",
       "      <th>50%</th>\n",
       "      <td>37.8</td>\n",
       "      <td>-122.1</td>\n",
       "      <td>31.0</td>\n",
       "      <td>2164.0</td>\n",
       "      <td>424.0</td>\n",
       "      <td>1074.0</td>\n",
       "      <td>403.0</td>\n",
       "      <td>3.7</td>\n",
       "      <td>2.1</td>\n",
       "    </tr>\n",
       "    <tr>\n",
       "      <th>75%</th>\n",
       "      <td>38.4</td>\n",
       "      <td>-121.9</td>\n",
       "      <td>42.0</td>\n",
       "      <td>3161.2</td>\n",
       "      <td>635.0</td>\n",
       "      <td>1590.2</td>\n",
       "      <td>603.0</td>\n",
       "      <td>5.1</td>\n",
       "      <td>2.4</td>\n",
       "    </tr>\n",
       "    <tr>\n",
       "      <th>max</th>\n",
       "      <td>42.0</td>\n",
       "      <td>-121.4</td>\n",
       "      <td>52.0</td>\n",
       "      <td>32627.0</td>\n",
       "      <td>6445.0</td>\n",
       "      <td>28566.0</td>\n",
       "      <td>6082.0</td>\n",
       "      <td>15.0</td>\n",
       "      <td>18.3</td>\n",
       "    </tr>\n",
       "  </tbody>\n",
       "</table>\n",
       "</div>"
      ],
      "text/plain": [
       "       latitude  longitude  housing_median_age  total_rooms  total_bedrooms  \\\n",
       "count    5000.0     5000.0              5000.0       5000.0          5000.0   \n",
       "mean       38.1     -122.2                31.3       2614.8           521.1   \n",
       "std         0.9        0.5                13.4       1979.6           388.5   \n",
       "min        36.1     -124.3                 1.0          8.0             1.0   \n",
       "25%        37.5     -122.4                20.0       1481.0           292.0   \n",
       "50%        37.8     -122.1                31.0       2164.0           424.0   \n",
       "75%        38.4     -121.9                42.0       3161.2           635.0   \n",
       "max        42.0     -121.4                52.0      32627.0          6445.0   \n",
       "\n",
       "       population  households  median_income  rooms_per_person  \n",
       "count      5000.0      5000.0         5000.0            5000.0  \n",
       "mean       1318.1       491.2            4.1               2.1  \n",
       "std        1073.7       366.5            2.0               0.6  \n",
       "min           8.0         1.0            0.5               0.1  \n",
       "25%         731.0       278.0            2.7               1.7  \n",
       "50%        1074.0       403.0            3.7               2.1  \n",
       "75%        1590.2       603.0            5.1               2.4  \n",
       "max       28566.0      6082.0           15.0              18.3  "
      ]
     },
     "execution_count": 41,
     "metadata": {},
     "output_type": "execute_result"
    }
   ],
   "source": [
    "validation_examples = preprocess_features(california_housing_dataframe.tail(5000))\n",
    "validation_examples.describe()"
   ]
  },
  {
   "cell_type": "code",
   "execution_count": 42,
   "metadata": {
    "colab": {
     "autoexec": {
      "startup": false,
      "wait_interval": 0
     }
    },
    "colab_type": "code",
    "id": "oVPcIT3BHpCm"
   },
   "outputs": [
    {
     "data": {
      "text/html": [
       "<div>\n",
       "<style scoped>\n",
       "    .dataframe tbody tr th:only-of-type {\n",
       "        vertical-align: middle;\n",
       "    }\n",
       "\n",
       "    .dataframe tbody tr th {\n",
       "        vertical-align: top;\n",
       "    }\n",
       "\n",
       "    .dataframe thead th {\n",
       "        text-align: right;\n",
       "    }\n",
       "</style>\n",
       "<table border=\"1\" class=\"dataframe\">\n",
       "  <thead>\n",
       "    <tr style=\"text-align: right;\">\n",
       "      <th></th>\n",
       "      <th>median_house_value</th>\n",
       "    </tr>\n",
       "  </thead>\n",
       "  <tbody>\n",
       "    <tr>\n",
       "      <th>count</th>\n",
       "      <td>5000.0</td>\n",
       "    </tr>\n",
       "    <tr>\n",
       "      <th>mean</th>\n",
       "      <td>229.5</td>\n",
       "    </tr>\n",
       "    <tr>\n",
       "      <th>std</th>\n",
       "      <td>122.5</td>\n",
       "    </tr>\n",
       "    <tr>\n",
       "      <th>min</th>\n",
       "      <td>15.0</td>\n",
       "    </tr>\n",
       "    <tr>\n",
       "      <th>25%</th>\n",
       "      <td>130.4</td>\n",
       "    </tr>\n",
       "    <tr>\n",
       "      <th>50%</th>\n",
       "      <td>213.0</td>\n",
       "    </tr>\n",
       "    <tr>\n",
       "      <th>75%</th>\n",
       "      <td>303.2</td>\n",
       "    </tr>\n",
       "    <tr>\n",
       "      <th>max</th>\n",
       "      <td>500.0</td>\n",
       "    </tr>\n",
       "  </tbody>\n",
       "</table>\n",
       "</div>"
      ],
      "text/plain": [
       "       median_house_value\n",
       "count              5000.0\n",
       "mean                229.5\n",
       "std                 122.5\n",
       "min                  15.0\n",
       "25%                 130.4\n",
       "50%                 213.0\n",
       "75%                 303.2\n",
       "max                 500.0"
      ]
     },
     "execution_count": 42,
     "metadata": {},
     "output_type": "execute_result"
    }
   ],
   "source": [
    "validation_targets = preprocess_targets(california_housing_dataframe.tail(5000))\n",
    "validation_targets.describe()"
   ]
  },
  {
   "cell_type": "markdown",
   "metadata": {
    "colab_type": "text",
    "id": "z3TZV1pgfZ1n"
   },
   "source": [
    "## Task 1: Examine the Data\n",
    "Okay, let's look at the data above. We have `9` input features that we can use.\n",
    "\n",
    "Take a quick skim over the table of values. Everything look okay? See how many issues you can spot. Don't worry if you don't have a background in statistics; common sense  will get you far.\n",
    "\n",
    "After you've had a chance to look over the data yourself, check the solution for some additional thoughts on how to verify data."
   ]
  },
  {
   "cell_type": "markdown",
   "metadata": {
    "colab_type": "text",
    "id": "4Xp9NhOCYSuz"
   },
   "source": [
    "### Solution\n",
    "\n",
    "Click __here__ for the solution.\n",
    "<!--\n",
    "Let's check our data against some baseline expectations:\n",
    "\n",
    "* For some values, like `median_house_value`, we can check to see if these values fall within reasonable ranges (keeping in mind this was 1990 data — not today!).\n",
    "\n",
    "* For other values, like `latitude` and `longitude`, we can do a quick check to see if these line up with expected values from a quick Google search.\n",
    "\n",
    "If you look closely, you may see some oddities:\n",
    "\n",
    "* `median_income` is on a scale from about 3 to 15. It's not at all clear what this scale refers to—looks like maybe some log scale? It's not documented anywhere; all we can assume is that higher values correspond to higher income.\n",
    "\n",
    "* The maximum `median_house_value` is 500,001. This looks like an artificial cap of some kind.\n",
    "\n",
    "* Our `rooms_per_person` feature is generally on a sane scale, with a 75th percentile value of about 2. But there are some very large values, like 18 or 55, which may show some amount of corruption in the data.\n",
    "-->"
   ]
  },
  {
   "cell_type": "markdown",
   "metadata": {
    "colab_type": "text",
    "id": "gqeRmK57YWpy"
   },
   "source": [
    "We'll use these features as given for now. But hopefully these kinds of examples can help to build a little intuition about how to check data that comes to you from an unknown source."
   ]
  },
  {
   "cell_type": "markdown",
   "metadata": {
    "colab_type": "text",
    "id": "fXliy7FYZZRm"
   },
   "source": [
    "## Task 2: Plot Latitude/Longitude vs. Median House Value"
   ]
  },
  {
   "cell_type": "markdown",
   "metadata": {
    "colab_type": "text",
    "id": "aJIWKBdfsDjg"
   },
   "source": [
    "Let's take a close look at two features in particular: **`latitude`** and **`longitude`**. These are geographical coordinates of the city block in question.\n",
    "\n",
    "This might make a nice visualization — let's plot `latitude` and `longitude`, and use color to show the `median_house_value`."
   ]
  },
  {
   "cell_type": "code",
   "execution_count": 43,
   "metadata": {
    "cellView": "both",
    "colab": {
     "autoexec": {
      "startup": false,
      "wait_interval": 0
     },
     "test": {
      "output": "ignore",
      "timeout": 600
     }
    },
    "colab_type": "code",
    "id": "5_LD23bJ06TW"
   },
   "outputs": [
    {
     "data": {
      "image/png": "[encoded data removed]",
      "text/plain": [
       "<Figure size 936x576 with 2 Axes>"
      ]
     },
     "metadata": {
      "needs_background": "light"
     },
     "output_type": "display_data"
    }
   ],
   "source": [
    "plt.figure(figsize=(13, 8))\n",
    "\n",
    "ax = plt.subplot(1, 2, 1)\n",
    "ax.set_title(\"Validation Data\")\n",
    "\n",
    "ax.set_autoscaley_on(False)\n",
    "ax.set_ylim([32, 43])\n",
    "ax.set_autoscalex_on(False)\n",
    "ax.set_xlim([-126, -112])\n",
    "plt.scatter(validation_examples[\"longitude\"],\n",
    "            validation_examples[\"latitude\"],\n",
    "            cmap=\"coolwarm\",\n",
    "            c=validation_targets[\"median_house_value\"] / validation_targets[\"median_house_value\"].max())\n",
    "\n",
    "ax = plt.subplot(1,2,2)\n",
    "ax.set_title(\"Training Data\")\n",
    "\n",
    "ax.set_autoscaley_on(False)\n",
    "ax.set_ylim([32, 43])\n",
    "ax.set_autoscalex_on(False)\n",
    "ax.set_xlim([-126, -112])\n",
    "plt.scatter(training_examples[\"longitude\"],\n",
    "            training_examples[\"latitude\"],\n",
    "            cmap=\"coolwarm\",\n",
    "            c=training_targets[\"median_house_value\"] / training_targets[\"median_house_value\"].max())\n",
    "_ = plt.plot()"
   ]
  },
  {
   "cell_type": "markdown",
   "metadata": {
    "colab_type": "text",
    "id": "32_DbjnfXJlC"
   },
   "source": [
    "Wait a second...this should have given us a nice map of the state of California, with red showing up in expensive areas like the San Francisco and Los Angeles.\n",
    "\n",
    "The training set sort of does, compared to a [real map](https://www.google.com/maps/place/California/@37.1870174,-123.7642688,6z/data=!3m1!4b1!4m2!3m1!1s0x808fb9fe5f285e3d:0x8b5109a227086f55), but the validation set clearly doesn't.\n",
    "\n",
    "**Go back up and look at the data from Task 1 again.**\n",
    "\n",
    "Do you see any other differences in the distributions of features or targets between the training and validation data?"
   ]
  },
  {
   "cell_type": "markdown",
   "metadata": {
    "colab_type": "text",
    "id": "pECTKgw5ZvFK"
   },
   "source": [
    "### Solution"
   ]
  },
  {
   "cell_type": "markdown",
   "metadata": {
    "colab_type": "text",
    "id": "pECTKgw5ZvFK"
   },
   "source": [
    "Click __here__ for the solution.\n",
    "<!--\n",
    "Looking at the tables of summary stats above, it's easy to wonder how anyone would do a useful data check. What's the right 75<sup>th</sup> percentile value for total_rooms per city block?\n",
    "\n",
    "The key thing to notice is that for any given feature or column, the distribution of values between the train and validation splits should be roughly equal.\n",
    "\n",
    "The fact that this is not the case is a real worry, and shows that we likely have a fault in the way that our train and validation split was created.\n",
    "-->"
   ]
  },
  {
   "cell_type": "markdown",
   "metadata": {
    "colab_type": "text",
    "id": "025Ky0Dq9ig0"
   },
   "source": [
    "## Task 3:  Return to the Data Importing and Pre-Processing Code, and See if You Spot Any Bugs\n",
    "If you do, go ahead and fix the bug. Don't spend more than a minute or two looking. If you can't find the bug, check the solution."
   ]
  },
  {
   "cell_type": "markdown",
   "metadata": {
    "colab_type": "text",
    "id": "JFsd2eWHAMdy"
   },
   "source": [
    "When you've found and fixed the issue, re-run `latitude` / `longitude` plotting cell above and confirm that our sanity checks look better.\n",
    "\n",
    "By the way, there's an important lesson here.\n",
    "\n",
    "**Debugging in ML is often *data debugging* rather than code debugging.**\n",
    "\n",
    "If the data is wrong, even the most advanced ML code can't save things."
   ]
  },
  {
   "cell_type": "markdown",
   "metadata": {
    "colab_type": "text",
    "id": "dER2_43pWj1T"
   },
   "source": [
    "### Solution"
   ]
  },
  {
   "cell_type": "markdown",
   "metadata": {
    "colab_type": "text",
    "id": "dER2_43pWj1T"
   },
   "source": [
    "Click __here__ for the solution.\n",
    "<!--\n",
    "Take a look at how the data is randomized when it's read in.\n",
    "\n",
    "If we don't randomize the data properly before creating training and validation splits, then we may be in trouble if the data is given to us in some sorted order, which appears to be the case here.\n",
    "-->"
   ]
  },
  {
   "cell_type": "markdown",
   "metadata": {
    "colab_type": "text",
    "id": "xCdqLpQyAos2"
   },
   "source": [
    "## Task 4: Train and Evaluate a Model\n",
    "\n",
    "**Spend 5 minutes or so trying different hyperparameter settings.  Try to get the best validation performance you can.**\n",
    "\n",
    "Next, we'll train a linear regressor using all the features in the data set, and see how well we do.\n",
    "\n",
    "Let's define the same input function we've used previously for loading the data into a TensorFlow model.\n"
   ]
  },
  {
   "cell_type": "code",
   "execution_count": 44,
   "metadata": {
    "colab": {
     "autoexec": {
      "startup": false,
      "wait_interval": 0
     }
    },
    "colab_type": "code",
    "id": "rzcIPGxxgG0t"
   },
   "outputs": [],
   "source": [
    "def my_input_fn(features, targets, batch_size=1, shuffle=True, num_epochs=None):\n",
    "    \"\"\"Trains a linear regression model of multiple features.\n",
    "  \n",
    "    Args:\n",
    "      features: pandas DataFrame of features\n",
    "      targets: pandas DataFrame of targets\n",
    "      batch_size: Size of batches to be passed to the model\n",
    "      shuffle: True or False. Whether to shuffle the data.\n",
    "      num_epochs: Number of epochs for which data should be repeated. None = repeat indefinitely\n",
    "    Returns:\n",
    "      Tuple of (features, labels) for next data batch\n",
    "    \"\"\"\n",
    "    \n",
    "    # Convert pandas data into a dict of np arrays.\n",
    "    features = {key:np.array(value) for key,value in dict(features).items()}                                           \n",
    " \n",
    "    # Construct a dataset, and configure batching/repeating.\n",
    "    ds = Dataset.from_tensor_slices((features,targets)) # warning: 2GB limit\n",
    "    ds = ds.batch(batch_size).repeat(num_epochs)\n",
    "    \n",
    "    # Shuffle the data, if specified.\n",
    "    if shuffle:\n",
    "        ds = ds.shuffle(10000)\n",
    "    \n",
    "    # Return the next batch of data.\n",
    "    features, labels = ds.make_one_shot_iterator().get_next()\n",
    "    return features, labels"
   ]
  },
  {
   "cell_type": "markdown",
   "metadata": {
    "colab_type": "text",
    "id": "CvrKoBmNgRCO"
   },
   "source": [
    "Because we're now working with multiple input features, let's modularize our code for configuring feature columns into a separate function. (For now, this code is fairly simple, as all our features are numeric, but we'll build on this code as we use other types of features in future exercises.)"
   ]
  },
  {
   "cell_type": "code",
   "execution_count": 45,
   "metadata": {
    "colab": {
     "autoexec": {
      "startup": false,
      "wait_interval": 0
     }
    },
    "colab_type": "code",
    "id": "wEW5_XYtgZ-H"
   },
   "outputs": [],
   "source": [
    "def construct_feature_columns(input_features):\n",
    "    \"\"\"Construct the TensorFlow Feature Columns.\n",
    "    \n",
    "    Args:\n",
    "        input_features: The names of the numerical input features to use.\n",
    "    Returns:\n",
    "        A set of feature columns\n",
    "    \"\"\" \n",
    "    \n",
    "    return set([tf.feature_column.numeric_column(my_feature)\n",
    "              for my_feature in input_features])"
   ]
  },
  {
   "cell_type": "markdown",
   "metadata": {
    "colab_type": "text",
    "id": "D0o2wnnzf8BD"
   },
   "source": [
    "Next, go ahead and complete the `train_model()` code below to set up the input functions and calculate predictions.\n",
    "\n",
    "**NOTE:** It's okay to reference the code from the previous exercises, but make sure to call `predict()` on the appropriate data sets.\n",
    "\n",
    "Compare the losses on training data and validation data. With a single raw feature, our best root mean squared error (RMSE) was of about 180.\n",
    "\n",
    "See how much better you can do now that we can use multiple features.\n",
    "\n",
    "Check the data using some of the methods we've looked at before.  These might include:\n",
    "\n",
    "   * Comparing distributions of predictions and actual target values\n",
    "\n",
    "   * Creating a scatter plot of predictions vs. target values\n",
    "\n",
    "   * Creating two scatter plots of validation data using `latitude` and `longitude`:\n",
    "      * One plot mapping color to actual target `median_house_value`\n",
    "      * A second plot mapping color to predicted `median_house_value` for side-by-side comparison."
   ]
  },
  {
   "cell_type": "code",
   "execution_count": 46,
   "metadata": {
    "cellView": "both",
    "colab": {
     "autoexec": {
      "startup": false,
      "wait_interval": 0
     },
     "test": {
      "output": "ignore",
      "timeout": 600
     }
    },
    "colab_type": "code",
    "id": "UXt0_4ZTEf4V"
   },
   "outputs": [],
   "source": [
    "def train_model(learning_rate, steps, batch_size,\n",
    "                    training_examples, training_targets,\n",
    "                    validation_examples, validation_targets):\n",
    "    \n",
    "    \"\"\"Trains a linear regression model of multiple features.\n",
    "  \n",
    "      In addition to training, this function also prints training progress information,\n",
    "      as well as a plot of the training and validation loss over time.\n",
    "\n",
    "      Args:\n",
    "        learning_rate: A `float`, the learning rate.\n",
    "        steps: A non-zero `int`, the total number of training steps. A training step\n",
    "          consists of a forward and backward pass using a single batch.\n",
    "        batch_size: A non-zero `int`, the batch size.\n",
    "        training_examples: A `DataFrame` containing one or more columns from\n",
    "          `california_housing_dataframe` to use as input features for training.\n",
    "        training_targets: A `DataFrame` containing exactly one column from\n",
    "          `california_housing_dataframe` to use as target for training.\n",
    "        validation_examples: A `DataFrame` containing one or more columns from\n",
    "          `california_housing_dataframe` to use as input features for validation.\n",
    "        validation_targets: A `DataFrame` containing exactly one column from\n",
    "          `california_housing_dataframe` to use as target for validation.\n",
    "\n",
    "      Returns:\n",
    "        A `LinearRegressor` object trained on the training data.\n",
    "    \"\"\"\n",
    "    \n",
    "    periods = 10\n",
    "    steps_per_period = steps / periods\n",
    "    \n",
    "    # Create a linear regressor object.\n",
    "    my_optimizer = tf.train.GradientDescentOptimizer(learning_rate=learning_rate)\n",
    "    my_optimizer = tf.contrib.estimator.clip_gradients_by_norm(my_optimizer, 5.0)\n",
    "    linear_regressor = tf.estimator.LinearRegressor(\n",
    "        feature_columns = construct_feature_columns(training_examples),\n",
    "        optimizer=my_optimizer\n",
    "    )\n",
    "    \n",
    "    # 1. Create input functions.\n",
    "    training_input_fn = lambda: my_input_fn(\n",
    "        training_examples, training_targets[\"median_house_value\"], \n",
    "        batch_size=batch_size) # YOUR CODE HERE\n",
    "    \n",
    "    predict_training_input_fn = lambda: my_input_fn(\n",
    "        training_examples, training_targets[\"median_house_value\"],\n",
    "        num_epochs=1, shuffle=False) # YOUR CODE HERE\n",
    "    \n",
    "    predict_validation_input_fn = lambda: my_input_fn(\n",
    "        validation_examples, validation_targets[\"median_house_value\"],\n",
    "        num_epochs=1, shuffle=False) # YOUR CODE HERE\n",
    "    \n",
    "    # Train the model, but do so inside a loop so that we can periodically assess\n",
    "    # loss metrics.\n",
    "    print(\"Training model...\")\n",
    "    print(\"RMSE (on training data):\")\n",
    "    training_rmse = []\n",
    "    validation_rmse = []\n",
    "    for period in range (0, periods):\n",
    "        # Train the model, starting from the prior state.\n",
    "        linear_regressor.train(\n",
    "            input_fn=training_input_fn,\n",
    "            steps=steps_per_period,\n",
    "        )\n",
    "        \n",
    "        # 2. Take a break and compute predictions.\n",
    "        training_predictions = linear_regressor.predict(input_fn=predict_training_input_fn) # YOUR CODE HERE\n",
    "        training_predictions = np.array([item['predictions'][0] for item in training_predictions])\n",
    "        \n",
    "        validation_predictions = linear_regressor.predict(input_fn=predict_validation_input_fn) # YOUR CODE HERE\n",
    "        validation_predictions = np.array([item['predictions'][0] for item in validation_predictions])\n",
    "        \n",
    "        # Compute training and validation loss.\n",
    "        training_root_mean_squared_error = math.sqrt(\n",
    "            metrics.mean_squared_error(training_predictions, training_targets))\n",
    "        validation_root_mean_squared_error = math.sqrt(\n",
    "            metrics.mean_squared_error(validation_predictions, validation_targets))\n",
    "        \n",
    "        # Occasionally print the current loss.\n",
    "        print(\"  period %02d : %0.2f\" % (period, training_root_mean_squared_error))\n",
    "        # Add the loss metrics from this period to our list.\n",
    "        training_rmse.append(training_root_mean_squared_error)\n",
    "        validation_rmse.append(validation_root_mean_squared_error)\n",
    "    print(\"Model training finished.\")\n",
    "    \n",
    "    # Output a graph of loss metrics over periods.\n",
    "    plt.ylabel(\"RMSE\")\n",
    "    plt.xlabel(\"Periods\")\n",
    "    plt.title(\"Root Mean Squared Error vs. Periods\")\n",
    "    plt.tight_layout()\n",
    "    plt.plot(training_rmse, label=\"training\")\n",
    "    plt.plot(validation_rmse, label=\"validation\")\n",
    "    plt.legend()\n",
    "    \n",
    "    return linear_regressor"
   ]
  },
  {
   "cell_type": "code",
   "execution_count": 26,
   "metadata": {
    "colab": {
     "autoexec": {
      "startup": false,
      "wait_interval": 0
     }
    },
    "colab_type": "code",
    "id": "zFFRmvUGh8wd"
   },
   "outputs": [
    {
     "name": "stdout",
     "output_type": "stream",
     "text": [
      "Training model...\n",
      "RMSE (on training data):\n",
      "  period 00 : 214.18\n",
      "  period 01 : 201.53\n",
      "  period 02 : 190.31\n",
      "  period 03 : 180.48\n",
      "  period 04 : 172.43\n",
      "  period 05 : 167.42\n",
      "  period 06 : 164.55\n",
      "  period 07 : 162.53\n",
      "  period 08 : 161.62\n",
      "  period 09 : 160.98\n",
      "Model training finished.\n"
     ]
    },
    {
     "data": {
      "image/png": "[encoded data removed]",
      "text/plain": [
       "<Figure size 432x288 with 1 Axes>"
      ]
     },
     "metadata": {
      "needs_background": "light"
     },
     "output_type": "display_data"
    }
   ],
   "source": [
    "linear_regressor = train_model(\n",
    "    # TWEAK THESE VALUES TO SEE HOW MUCH YOU CAN IMPROVE THE RMSE\n",
    "    learning_rate=0.0001,\n",
    "    steps=100,\n",
    "    batch_size=1,\n",
    "    training_examples=training_examples,\n",
    "    training_targets=training_targets,\n",
    "    validation_examples=validation_examples,\n",
    "    validation_targets=validation_targets)"
   ]
  },
  {
   "cell_type": "markdown",
   "metadata": {
    "colab_type": "text",
    "id": "I-La4N9ObC1x"
   },
   "source": [
    "### Solution"
   ]
  },
  {
   "cell_type": "markdown",
   "metadata": {
    "colab_type": "text",
    "id": "I-La4N9ObC1x"
   },
   "source": [
    "Click __here__ for a solution.\n",
    "\n",
    "<!--\n",
    "def train_model(\n",
    "    learning_rate,\n",
    "    steps,\n",
    "    batch_size,\n",
    "    training_examples,\n",
    "    training_targets,\n",
    "    validation_examples,\n",
    "    validation_targets):\n",
    "  \"\"\"Trains a linear regression model of multiple features.\n",
    "  \n",
    "  In addition to training, this function also prints training progress information,\n",
    "  as well as a plot of the training and validation loss over time.\n",
    "  \n",
    "  Args:\n",
    "    learning_rate: A `float`, the learning rate.\n",
    "    steps: A non-zero `int`, the total number of training steps. A training step\n",
    "      consists of a forward and backward pass using a single batch.\n",
    "    batch_size: A non-zero `int`, the batch size.\n",
    "    training_examples: A `DataFrame` containing one or more columns from\n",
    "      `california_housing_dataframe` to use as input features for training.\n",
    "    training_targets: A `DataFrame` containing exactly one column from\n",
    "      `california_housing_dataframe` to use as target for training.\n",
    "    validation_examples: A `DataFrame` containing one or more columns from\n",
    "      `california_housing_dataframe` to use as input features for validation.\n",
    "    validation_targets: A `DataFrame` containing exactly one column from\n",
    "      `california_housing_dataframe` to use as target for validation.\n",
    "      \n",
    "  Returns:\n",
    "    A `LinearRegressor` object trained on the training data.\n",
    "  \"\"\"\n",
    "\n",
    "  periods = 10\n",
    "  steps_per_period = steps / periods\n",
    "  \n",
    "  # Create a linear regressor object.\n",
    "  my_optimizer = tf.train.GradientDescentOptimizer(learning_rate=learning_rate)\n",
    "  my_optimizer = tf.contrib.estimator.clip_gradients_by_norm(my_optimizer, 5.0)\n",
    "  linear_regressor = tf.estimator.LinearRegressor(\n",
    "      feature_columns=construct_feature_columns(training_examples),\n",
    "      optimizer=my_optimizer\n",
    "  )\n",
    "  \n",
    "  # Create input functions.\n",
    "  training_input_fn = lambda: my_input_fn(\n",
    "      training_examples, \n",
    "      training_targets[\"median_house_value\"], \n",
    "      batch_size=batch_size)\n",
    "  predict_training_input_fn = lambda: my_input_fn(\n",
    "      training_examples, \n",
    "      training_targets[\"median_house_value\"], \n",
    "      num_epochs=1, \n",
    "      shuffle=False)\n",
    "  predict_validation_input_fn = lambda: my_input_fn(\n",
    "      validation_examples, validation_targets[\"median_house_value\"], \n",
    "      num_epochs=1, \n",
    "      shuffle=False)\n",
    "\n",
    "  # Train the model, but do so inside a loop so that we can periodically assess\n",
    "  # loss metrics.\n",
    "  print(\"Training model...\")\n",
    "  print(\"RMSE (on training data):\")\n",
    "  training_rmse = []\n",
    "  validation_rmse = []\n",
    "  for period in range (0, periods):\n",
    "    # Train the model, starting from the prior state.\n",
    "    linear_regressor.train(\n",
    "        input_fn=training_input_fn,\n",
    "        steps=steps_per_period,\n",
    "    )\n",
    "    # Take a break and compute predictions.\n",
    "    training_predictions = linear_regressor.predict(input_fn=predict_training_input_fn)\n",
    "    training_predictions = np.array([item['predictions'][0] for item in training_predictions])\n",
    "    \n",
    "    validation_predictions = linear_regressor.predict(input_fn=predict_validation_input_fn)\n",
    "    validation_predictions = np.array([item['predictions'][0] for item in validation_predictions])\n",
    "    \n",
    "    \n",
    "    # Compute training and validation loss.\n",
    "    training_root_mean_squared_error = math.sqrt(\n",
    "        metrics.mean_squared_error(training_predictions, training_targets))\n",
    "    validation_root_mean_squared_error = math.sqrt(\n",
    "        metrics.mean_squared_error(validation_predictions, validation_targets))\n",
    "    # Occasionally print the current loss.\n",
    "    print(\"  period %02d : %0.2f\" % (period, training_root_mean_squared_error))\n",
    "    # Add the loss metrics from this period to our list.\n",
    "    training_rmse.append(training_root_mean_squared_error)\n",
    "    validation_rmse.append(validation_root_mean_squared_error)\n",
    "  print(\"Model training finished.\")\n",
    "\n",
    "  # Output a graph of loss metrics over periods.\n",
    "  plt.ylabel(\"RMSE\")\n",
    "  plt.xlabel(\"Periods\")\n",
    "  plt.title(\"Root Mean Squared Error vs. Periods\")\n",
    "  plt.tight_layout()\n",
    "  plt.plot(training_rmse, label=\"training\")\n",
    "  plt.plot(validation_rmse, label=\"validation\")\n",
    "  plt.legend()\n",
    "\n",
    "  return linear_regressor\n",
    "\n",
    "\n",
    "linear_regressor = train_model(\n",
    "    learning_rate=0.00003,\n",
    "    steps=500,\n",
    "    batch_size=5,\n",
    "    training_examples=training_examples,\n",
    "    training_targets=training_targets,\n",
    "    validation_examples=validation_examples,\n",
    "    validation_targets=validation_targets)\n",
    "-->"
   ]
  },
  {
   "cell_type": "markdown",
   "metadata": {
    "colab_type": "text",
    "id": "65sin-E5NmHN"
   },
   "source": [
    "## Task 5: Evaluate on Test Data\n",
    "\n",
    "**In the cell below, load in the test data set and evaluate your model on it.**\n",
    "\n",
    "We've done a lot of iteration on our validation data.  Let's make sure we haven't overfit to the pecularities of that particular sample.\n",
    "\n",
    "Test data set is located [here](https://download.mlcc.google.com/mledu-datasets/california_housing_test.csv).\n",
    "\n",
    "How does your test performance compare to the validation performance?  What does this say about the generalization performance of your model?"
   ]
  },
  {
   "cell_type": "code",
   "execution_count": 50,
   "metadata": {
    "cellView": "both",
    "colab": {
     "autoexec": {
      "startup": false,
      "wait_interval": 0
     },
     "test": {
      "output": "ignore",
      "timeout": 600
     }
    },
    "colab_type": "code",
    "id": "icEJIl5Vp51r"
   },
   "outputs": [
    {
     "name": "stdout",
     "output_type": "stream",
     "text": [
      "Training model...\n",
      "RMSE (on training data):\n",
      "  period 00 : 223.96\n",
      "  period 01 : 212.03\n",
      "  period 02 : 200.53\n",
      "  period 03 : 190.34\n",
      "  period 04 : 183.24\n",
      "  period 05 : 177.28\n",
      "  period 06 : 172.53\n",
      "  period 07 : 169.24\n",
      "  period 08 : 166.94\n",
      "  period 09 : 166.63\n",
      "Model training finished.\n"
     ]
    },
    {
     "data": {
      "image/png": "[encoded data removed]",
      "text/plain": [
       "<Figure size 432x288 with 1 Axes>"
      ]
     },
     "metadata": {
      "needs_background": "light"
     },
     "output_type": "display_data"
    }
   ],
   "source": [
    "# california_housing_test_data = pd.read_csv(\"https://download.mlcc.google.com/mledu-datasets/california_housing_test.csv\", sep=\",\")\n",
    "california_housing_test_data = pd.read_csv(\"..\\..\\data\\california_housing_test.csv\", sep=\",\")\n",
    "\n",
    "#\n",
    "# YOUR CODE HERE\n",
    "#\n",
    "training_examples = preprocess_features(california_housing_dataframe)\n",
    "training_targets = preprocess_targets(california_housing_dataframe)\n",
    "\n",
    "test_examples = preprocess_features(california_housing_test_data)\n",
    "test_targets = preprocess_targets(california_housing_test_data)\n",
    "\n",
    "linear_regressor = train_model(\n",
    "    # TWEAK THESE VALUES TO SEE HOW MUCH YOU CAN IMPROVE THE RMSE\n",
    "    learning_rate=0.0001,\n",
    "    steps=100,\n",
    "    batch_size=1,\n",
    "    training_examples=training_examples,\n",
    "    training_targets=training_targets,\n",
    "    validation_examples=test_examples,\n",
    "    validation_targets=test_targets)"
   ]
  },
  {
   "cell_type": "code",
   "execution_count": 49,
   "metadata": {},
   "outputs": [
    {
     "name": "stdout",
     "output_type": "stream",
     "text": [
      "Final RMSE (on test data): 161.91\n"
     ]
    }
   ],
   "source": [
    "# california_housing_test_data = pd.read_csv(\"https://download.mlcc.google.com/mledu-datasets/california_housing_test.csv\", sep=\",\")\n",
    "california_housing_test_data = pd.read_csv(\"..\\..\\data\\california_housing_test.csv\", sep=\",\")\n",
    "\n",
    "test_examples = preprocess_features(california_housing_test_data)\n",
    "test_targets = preprocess_targets(california_housing_test_data)\n",
    "\n",
    "predict_test_input_fn = lambda: my_input_fn(\n",
    "      test_examples, \n",
    "      test_targets[\"median_house_value\"], \n",
    "      num_epochs=1, \n",
    "      shuffle=False)\n",
    "\n",
    "test_predictions = linear_regressor.predict(input_fn=predict_test_input_fn)\n",
    "test_predictions = np.array([item['predictions'][0] for item in test_predictions])\n",
    "\n",
    "root_mean_squared_error = math.sqrt(\n",
    "    metrics.mean_squared_error(test_predictions, test_targets))\n",
    "\n",
    "print(\"Final RMSE (on test data): %0.2f\" % root_mean_squared_error)"
   ]
  },
  {
   "cell_type": "markdown",
   "metadata": {
    "colab_type": "text",
    "id": "yTghc_5HkJDW"
   },
   "source": [
    "### Solution"
   ]
  },
  {
   "cell_type": "markdown",
   "metadata": {
    "colab_type": "text",
    "id": "yTghc_5HkJDW"
   },
   "source": [
    "Click __here__ for the solution.\n",
    "\n",
    "<!--\n",
    "\n",
    "california_housing_test_data = pd.read_csv(\"https://download.mlcc.google.com/mledu-datasets/california_housing_test.csv\", sep=\",\")\n",
    "\n",
    "test_examples = preprocess_features(california_housing_test_data)\n",
    "test_targets = preprocess_targets(california_housing_test_data)\n",
    "\n",
    "predict_test_input_fn = lambda: my_input_fn(\n",
    "      test_examples, \n",
    "      test_targets[\"median_house_value\"], \n",
    "      num_epochs=1, \n",
    "      shuffle=False)\n",
    "\n",
    "test_predictions = linear_regressor.predict(input_fn=predict_test_input_fn)\n",
    "test_predictions = np.array([item['predictions'][0] for item in test_predictions])\n",
    "\n",
    "root_mean_squared_error = math.sqrt(\n",
    "    metrics.mean_squared_error(test_predictions, test_targets))\n",
    "\n",
    "print(\"Final RMSE (on test data): %0.2f\" % root_mean_squared_error)\n",
    "-->"
   ]
  }
 ],
 "metadata": {
  "colab": {
   "collapsed_sections": [
    "JndnmDMp66FL",
    "4Xp9NhOCYSuz",
    "pECTKgw5ZvFK",
    "dER2_43pWj1T",
    "I-La4N9ObC1x",
    "yTghc_5HkJDW"
   ],
   "default_view": {},
   "name": "validation.ipynb",
   "provenance": [],
   "version": "0.3.2",
   "views": {}
  },
  "kernelspec": {
   "display_name": "Python 3.6 (AIMS SA)",
   "language": "python",
   "name": "aims"
  },
  "language_info": {
   "codemirror_mode": {
    "name": "ipython",
    "version": 3
   },
   "file_extension": ".py",
   "mimetype": "text/x-python",
   "name": "python",
   "nbconvert_exporter": "python",
   "pygments_lexer": "ipython3",
   "version": "3.6.7"
  }
 },
 "nbformat": 4,
 "nbformat_minor": 2
}
